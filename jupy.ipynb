{
 "cells": [
  {
   "cell_type": "code",
   "execution_count": null,
   "metadata": {},
   "outputs": [],
   "source": []
  },
  {
   "cell_type": "code",
   "execution_count": null,
   "metadata": {},
   "outputs": [],
   "source": [
    "import pandas as pd\n",
    "import numpy as np\n",
    "\n",
    "\n",
    "# dataframes\n",
    "df = pd.DataFrame({\n",
    "    \"Population\" : [35.467, 63.951, 80.94, 60.665, 127.061, 64.511, 318.523],\n",
    "    \"GDP\" : [\n",
    "        1785387,\n",
    "        2833687,\n",
    "        3874437, \n",
    "        2167744,\n",
    "        4602367,\n",
    "        2950039,\n",
    "        17348075\n",
    "    ],\n",
    "    \"Surface\" : [\n",
    "        9984670,\n",
    "        640679,\n",
    "        357114,\n",
    "        301336,\n",
    "        377930,\n",
    "        242495,\n",
    "        9525067  \n",
    "    ],\n",
    "    \"HDI\" : [0.913 , 0.888, 0.916, 0.873, 0.891, 0.907, 0.915],\n",
    "    \"Continent\" : ['America', 'Europe', 'Europe', 'Europe', 'Asia', 'Europe', 'America']\n",
    "})\n",
    "\n",
    "df.index = [\n",
    "    'Canada',\n",
    "    'France',\n",
    "    'Germany',\n",
    "    'Italy',\n",
    "    'Japan',\n",
    "    'United Kingdom',\n",
    "    'United States'\n",
    "]\n",
    "\n",
    "# df.info()\n",
    "# df.describe()\n",
    "# df['Population'].to_frame()\n",
    "# df.iloc[-1]\n",
    "\n",
    "df.loc['France': 'Italy', ['Population', 'HDI']]\n",
    "\n",
    "# creando una nueva columna para idiomas\n",
    "langs = pd.Series(\n",
    "    ['French', 'German', 'Italian'],\n",
    "    index = ['France', 'Germany', 'Italy'],\n",
    "    name = 'Language'\n",
    ")\n",
    "\n",
    "df['Languaje'] = langs\n",
    "\n",
    "df['GDP per Capita'] = df['GDP'] / df['Population']\n",
    "\n",
    "df"
   ]
  },
  {
   "cell_type": "code",
   "execution_count": null,
   "metadata": {},
   "outputs": [],
   "source": []
  }
 ],
 "metadata": {
  "kernelspec": {
   "display_name": "Python 3",
   "language": "python",
   "name": "python3"
  },
  "language_info": {
   "codemirror_mode": {
    "name": "ipython",
    "version": 3
   },
   "file_extension": ".py",
   "mimetype": "text/x-python",
   "name": "python",
   "nbconvert_exporter": "python",
   "pygments_lexer": "ipython3",
   "version": "3.11.4"
  },
  "orig_nbformat": 4
 },
 "nbformat": 4,
 "nbformat_minor": 2
}
