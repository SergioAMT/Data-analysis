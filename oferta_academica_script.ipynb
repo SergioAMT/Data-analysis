{
 "cells": [
  {
   "cell_type": "code",
   "execution_count": 56,
   "metadata": {},
   "outputs": [],
   "source": [
    "import numpy as np \n",
    "import pandas as pd \n",
    "import seaborn as sns "
   ]
  },
  {
   "cell_type": "code",
   "execution_count": 60,
   "metadata": {},
   "outputs": [
    {
     "name": "stdout",
     "output_type": "stream",
     "text": [
      "<class 'pandas.core.frame.DataFrame'>\n"
     ]
    }
   ],
   "source": [
    "data = pd.read_csv('oferta_academica.csv', encoding='utf-8')\n",
    "print(type(data))"
   ]
  },
  {
   "cell_type": "code",
   "execution_count": 79,
   "metadata": {},
   "outputs": [],
   "source": [
    "pd.options.display.max_rows = 8"
   ]
  },
  {
   "cell_type": "code",
   "execution_count": 62,
   "metadata": {},
   "outputs": [
    {
     "data": {
      "text/plain": [
       "(5859, 7)"
      ]
     },
     "execution_count": 62,
     "metadata": {},
     "output_type": "execute_result"
    }
   ],
   "source": [
    "# para ver la cantidad de filas y columnas\n",
    "data.shape\n"
   ]
  },
  {
   "cell_type": "code",
   "execution_count": 63,
   "metadata": {},
   "outputs": [
    {
     "data": {
      "text/plain": [
       "Index(['IEU',\n",
       "       'LOCALIDAD',\n",
       "       'SIGLAS',\n",
       "       'ESTADO_IEU',\n",
       "       'CARRERA',\n",
       "       'ESTADO_CARRERA',\n",
       "       'TITULO'],\n",
       "      dtype='object')"
      ]
     },
     "execution_count": 63,
     "metadata": {},
     "output_type": "execute_result"
    }
   ],
   "source": [
    "# verificando las columnas\n",
    "data.columns"
   ]
  },
  {
   "cell_type": "code",
   "execution_count": 68,
   "metadata": {},
   "outputs": [],
   "source": [
    "# cambiando el nombre de una columna y guardando los datos\n",
    "data.rename(columns={'ESTADO_IEU':'ESTATUS'}, inplace=True)"
   ]
  },
  {
   "cell_type": "code",
   "execution_count": null,
   "metadata": {},
   "outputs": [],
   "source": [
    "# confirmar el cambio\n",
    "data"
   ]
  },
  {
   "cell_type": "code",
   "execution_count": 71,
   "metadata": {},
   "outputs": [
    {
     "data": {
      "text/plain": [
       "258"
      ]
     },
     "execution_count": 71,
     "metadata": {},
     "output_type": "execute_result"
    }
   ],
   "source": [
    "# ver el numero de filas duplicadas\n",
    "data.duplicated().sum()"
   ]
  },
  {
   "cell_type": "code",
   "execution_count": 80,
   "metadata": {},
   "outputs": [
    {
     "data": {
      "text/plain": [
       "IEU                 0\n",
       "LOCALIDAD           0\n",
       "SIGLAS              1\n",
       "ESTATUS             0\n",
       "CARRERA             0\n",
       "ESTADO_CARRERA      0\n",
       "TITULO            995\n",
       "dtype: int64"
      ]
     },
     "execution_count": 80,
     "metadata": {},
     "output_type": "execute_result"
    }
   ],
   "source": [
    "# Verificando las filas faltantes\n",
    "data.isnull().sum()"
   ]
  },
  {
   "cell_type": "code",
   "execution_count": null,
   "metadata": {},
   "outputs": [],
   "source": [
    "# mean_value = data['SIGLAS'].mean()\n",
    "# mean_value si fuese un valor numerico"
   ]
  },
  {
   "cell_type": "code",
   "execution_count": 82,
   "metadata": {},
   "outputs": [],
   "source": [
    "data['SIGLAS'].fillna('sin siglas', inplace=True)"
   ]
  },
  {
   "cell_type": "code",
   "execution_count": 84,
   "metadata": {},
   "outputs": [
    {
     "data": {
      "text/plain": [
       "IEU                 0\n",
       "LOCALIDAD           0\n",
       "SIGLAS              0\n",
       "ESTATUS             0\n",
       "CARRERA             0\n",
       "ESTADO_CARRERA      0\n",
       "TITULO            995\n",
       "dtype: int64"
      ]
     },
     "execution_count": 84,
     "metadata": {},
     "output_type": "execute_result"
    }
   ],
   "source": [
    "# para confirmar los cambios\n",
    "data.isnull().sum()"
   ]
  },
  {
   "cell_type": "code",
   "execution_count": 72,
   "metadata": {},
   "outputs": [],
   "source": [
    "data['ESTADO_CARRERA'].fillna(0, inplace=True)"
   ]
  },
  {
   "cell_type": "code",
   "execution_count": 83,
   "metadata": {},
   "outputs": [
    {
     "data": {
      "text/plain": [
       "array([0., 1.])"
      ]
     },
     "execution_count": 83,
     "metadata": {},
     "output_type": "execute_result"
    }
   ],
   "source": [
    "data['ESTADO_CARRERA'].unique()"
   ]
  },
  {
   "cell_type": "code",
   "execution_count": 88,
   "metadata": {},
   "outputs": [],
   "source": [
    "# cambiando el tipo de dato float a string\n",
    "data['ESTADO_CARRERA'] = data['ESTADO_CARRERA'].astype(str)"
   ]
  },
  {
   "cell_type": "code",
   "execution_count": 90,
   "metadata": {},
   "outputs": [],
   "source": [
    "data['ESTATUS'] = data['ESTATUS'].astype(str)"
   ]
  },
  {
   "cell_type": "code",
   "execution_count": 95,
   "metadata": {},
   "outputs": [
    {
     "data": {
      "text/plain": [
       "IEU                 0\n",
       "LOCALIDAD           0\n",
       "SIGLAS              0\n",
       "ESTATUS             0\n",
       "CARRERA             0\n",
       "ESTADO_CARRERA      0\n",
       "TITULO            995\n",
       "dtype: int64"
      ]
     },
     "execution_count": 95,
     "metadata": {},
     "output_type": "execute_result"
    }
   ],
   "source": [
    "data.isnull().sum()"
   ]
  },
  {
   "cell_type": "code",
   "execution_count": 93,
   "metadata": {},
   "outputs": [
    {
     "data": {
      "text/plain": [
       "2"
      ]
     },
     "execution_count": 93,
     "metadata": {},
     "output_type": "execute_result"
    }
   ],
   "source": [
    "# Dimensiones de la data\n",
    "data.ndim"
   ]
  },
  {
   "cell_type": "code",
   "execution_count": null,
   "metadata": {},
   "outputs": [],
   "source": [
    "# Visualizar los 5 primeros y ultimos, si coloco un indice, los limita\n",
    "data.head\n",
    "data.tail(4)"
   ]
  },
  {
   "cell_type": "code",
   "execution_count": 98,
   "metadata": {},
   "outputs": [
    {
     "data": {
      "text/plain": [
       "IEU               object\n",
       "LOCALIDAD         object\n",
       "SIGLAS            object\n",
       "ESTATUS           object\n",
       "CARRERA           object\n",
       "ESTADO_CARRERA    object\n",
       "TITULO            object\n",
       "dtype: object"
      ]
     },
     "execution_count": 98,
     "metadata": {},
     "output_type": "execute_result"
    }
   ],
   "source": [
    "# ver el tipo de dato de cada columna\n",
    "data.dtypes"
   ]
  },
  {
   "cell_type": "code",
   "execution_count": 97,
   "metadata": {},
   "outputs": [
    {
     "data": {
      "text/plain": [
       "array(['0.0', '1.0'], dtype=object)"
      ]
     },
     "execution_count": 97,
     "metadata": {},
     "output_type": "execute_result"
    }
   ],
   "source": [
    "data['ESTADO_CARRERA'].unique()"
   ]
  },
  {
   "cell_type": "code",
   "execution_count": 96,
   "metadata": {},
   "outputs": [
    {
     "name": "stdout",
     "output_type": "stream",
     "text": [
      "<class 'pandas.core.frame.DataFrame'>\n",
      "RangeIndex: 5859 entries, 0 to 5858\n",
      "Data columns (total 7 columns):\n",
      " #   Column          Non-Null Count  Dtype \n",
      "---  ------          --------------  ----- \n",
      " 0   IEU             5859 non-null   object\n",
      " 1   LOCALIDAD       5859 non-null   object\n",
      " 2   SIGLAS          5859 non-null   object\n",
      " 3   ESTATUS         5859 non-null   object\n",
      " 4   CARRERA         5859 non-null   object\n",
      " 5   ESTADO_CARRERA  5859 non-null   object\n",
      " 6   TITULO          4864 non-null   object\n",
      "dtypes: object(7)\n",
      "memory usage: 320.5+ KB\n"
     ]
    }
   ],
   "source": [
    "data.info()"
   ]
  },
  {
   "cell_type": "code",
   "execution_count": 102,
   "metadata": {},
   "outputs": [],
   "source": [
    "data['ESTATUS'].replace('1', 'Activa', inplace=True)"
   ]
  },
  {
   "cell_type": "code",
   "execution_count": 107,
   "metadata": {},
   "outputs": [],
   "source": [
    "data['ESTATUS'].replace('0', 'Inactiva', inplace=True)"
   ]
  },
  {
   "cell_type": "code",
   "execution_count": 114,
   "metadata": {},
   "outputs": [
    {
     "data": {
      "text/html": [
       "<div>\n",
       "<style scoped>\n",
       "    .dataframe tbody tr th:only-of-type {\n",
       "        vertical-align: middle;\n",
       "    }\n",
       "\n",
       "    .dataframe tbody tr th {\n",
       "        vertical-align: top;\n",
       "    }\n",
       "\n",
       "    .dataframe thead th {\n",
       "        text-align: right;\n",
       "    }\n",
       "</style>\n",
       "<table border=\"1\" class=\"dataframe\">\n",
       "  <thead>\n",
       "    <tr style=\"text-align: right;\">\n",
       "      <th></th>\n",
       "      <th>IEU</th>\n",
       "      <th>LOCALIDAD</th>\n",
       "      <th>SIGLAS</th>\n",
       "      <th>ESTATUS</th>\n",
       "      <th>CARRERA</th>\n",
       "      <th>ESTADO_CARRERA</th>\n",
       "      <th>TITULO</th>\n",
       "    </tr>\n",
       "  </thead>\n",
       "  <tbody>\n",
       "    <tr>\n",
       "      <th>0</th>\n",
       "      <td>Academia Militar de Venezuela</td>\n",
       "      <td>Caracas</td>\n",
       "      <td>AMV</td>\n",
       "      <td>Inactiva</td>\n",
       "      <td>Ciencias y Artes Militares Opción Terrestre</td>\n",
       "      <td>Inactiva</td>\n",
       "      <td>Licenciado en Ciencias y Artes Militares Opció...</td>\n",
       "    </tr>\n",
       "    <tr>\n",
       "      <th>1</th>\n",
       "      <td>Colegio Universitario de Administración y Merc...</td>\n",
       "      <td>Ampliación Guacara</td>\n",
       "      <td>CUAM</td>\n",
       "      <td>Activa</td>\n",
       "      <td>Informática (Técnica)</td>\n",
       "      <td>Activa</td>\n",
       "      <td>Técnico Superior en Informática</td>\n",
       "    </tr>\n",
       "    <tr>\n",
       "      <th>2</th>\n",
       "      <td>Colegio Universitario de Administración y Merc...</td>\n",
       "      <td>Ampliación Guacara</td>\n",
       "      <td>CUAM</td>\n",
       "      <td>Activa</td>\n",
       "      <td>Preescolar (Técnica)</td>\n",
       "      <td>Activa</td>\n",
       "      <td>Técnico Superior en Preescolar</td>\n",
       "    </tr>\n",
       "    <tr>\n",
       "      <th>3</th>\n",
       "      <td>Colegio Universitario de Administración y Merc...</td>\n",
       "      <td>Ampliación Guacara</td>\n",
       "      <td>CUAM</td>\n",
       "      <td>Activa</td>\n",
       "      <td>Administración de Recursos Humanos (Técnica)</td>\n",
       "      <td>Activa</td>\n",
       "      <td>Técnico Superior en Administración de Personal...</td>\n",
       "    </tr>\n",
       "    <tr>\n",
       "      <th>...</th>\n",
       "      <td>...</td>\n",
       "      <td>...</td>\n",
       "      <td>...</td>\n",
       "      <td>...</td>\n",
       "      <td>...</td>\n",
       "      <td>...</td>\n",
       "      <td>...</td>\n",
       "    </tr>\n",
       "    <tr>\n",
       "      <th>5855</th>\n",
       "      <td>Universidad Valle del Momboy</td>\n",
       "      <td>Valera</td>\n",
       "      <td>UVM</td>\n",
       "      <td>Activa</td>\n",
       "      <td>Ciencias Políticas</td>\n",
       "      <td>Activa</td>\n",
       "      <td>Licenciado en Ciencias Políticas</td>\n",
       "    </tr>\n",
       "    <tr>\n",
       "      <th>5856</th>\n",
       "      <td>Universidad Valle del Momboy</td>\n",
       "      <td>Valera</td>\n",
       "      <td>UVM</td>\n",
       "      <td>Activa</td>\n",
       "      <td>Derecho</td>\n",
       "      <td>Activa</td>\n",
       "      <td>Abogado</td>\n",
       "    </tr>\n",
       "    <tr>\n",
       "      <th>5857</th>\n",
       "      <td>Universidad Valle del Momboy</td>\n",
       "      <td>Valera</td>\n",
       "      <td>UVM</td>\n",
       "      <td>Activa</td>\n",
       "      <td>Ingeniería Industrial</td>\n",
       "      <td>Activa</td>\n",
       "      <td>Ingeniero Industrial</td>\n",
       "    </tr>\n",
       "    <tr>\n",
       "      <th>5858</th>\n",
       "      <td>Universidad Valle del Momboy</td>\n",
       "      <td>Valera</td>\n",
       "      <td>UVM</td>\n",
       "      <td>Activa</td>\n",
       "      <td>Contaduría Pública</td>\n",
       "      <td>Activa</td>\n",
       "      <td>Licenciado en Contaduría Pública</td>\n",
       "    </tr>\n",
       "  </tbody>\n",
       "</table>\n",
       "<p>5859 rows × 7 columns</p>\n",
       "</div>"
      ],
      "text/plain": [
       "                                                    IEU  \\\n",
       "0                         Academia Militar de Venezuela   \n",
       "1     Colegio Universitario de Administración y Merc...   \n",
       "2     Colegio Universitario de Administración y Merc...   \n",
       "3     Colegio Universitario de Administración y Merc...   \n",
       "...                                                 ...   \n",
       "5855                       Universidad Valle del Momboy   \n",
       "5856                       Universidad Valle del Momboy   \n",
       "5857                       Universidad Valle del Momboy   \n",
       "5858                       Universidad Valle del Momboy   \n",
       "\n",
       "               LOCALIDAD  \\\n",
       "0                Caracas   \n",
       "1     Ampliación Guacara   \n",
       "2     Ampliación Guacara   \n",
       "3     Ampliación Guacara   \n",
       "...                  ...   \n",
       "5855              Valera   \n",
       "5856              Valera   \n",
       "5857              Valera   \n",
       "5858              Valera   \n",
       "\n",
       "     SIGLAS  \\\n",
       "0       AMV   \n",
       "1      CUAM   \n",
       "2      CUAM   \n",
       "3      CUAM   \n",
       "...     ...   \n",
       "5855    UVM   \n",
       "5856    UVM   \n",
       "5857    UVM   \n",
       "5858    UVM   \n",
       "\n",
       "       ESTATUS  \\\n",
       "0     Inactiva   \n",
       "1       Activa   \n",
       "2       Activa   \n",
       "3       Activa   \n",
       "...        ...   \n",
       "5855    Activa   \n",
       "5856    Activa   \n",
       "5857    Activa   \n",
       "5858    Activa   \n",
       "\n",
       "                                           CARRERA  \\\n",
       "0      Ciencias y Artes Militares Opción Terrestre   \n",
       "1                            Informática (Técnica)   \n",
       "2                             Preescolar (Técnica)   \n",
       "3     Administración de Recursos Humanos (Técnica)   \n",
       "...                                            ...   \n",
       "5855                            Ciencias Políticas   \n",
       "5856                                       Derecho   \n",
       "5857                         Ingeniería Industrial   \n",
       "5858                            Contaduría Pública   \n",
       "\n",
       "     ESTADO_CARRERA  \\\n",
       "0          Inactiva   \n",
       "1            Activa   \n",
       "2            Activa   \n",
       "3            Activa   \n",
       "...             ...   \n",
       "5855         Activa   \n",
       "5856         Activa   \n",
       "5857         Activa   \n",
       "5858         Activa   \n",
       "\n",
       "                                                 TITULO  \n",
       "0     Licenciado en Ciencias y Artes Militares Opció...  \n",
       "1                       Técnico Superior en Informática  \n",
       "2                        Técnico Superior en Preescolar  \n",
       "3     Técnico Superior en Administración de Personal...  \n",
       "...                                                 ...  \n",
       "5855                   Licenciado en Ciencias Políticas  \n",
       "5856                                            Abogado  \n",
       "5857                               Ingeniero Industrial  \n",
       "5858                   Licenciado en Contaduría Pública  \n",
       "\n",
       "[5859 rows x 7 columns]"
      ]
     },
     "execution_count": 114,
     "metadata": {},
     "output_type": "execute_result"
    }
   ],
   "source": [
    "data"
   ]
  },
  {
   "cell_type": "code",
   "execution_count": 108,
   "metadata": {},
   "outputs": [],
   "source": [
    "data['ESTADO_CARRERA'].replace('1.0', 'Activa', inplace=True)\n",
    "data['ESTADO_CARRERA'].replace('0.0', 'Inactiva', inplace=True)"
   ]
  },
  {
   "cell_type": "code",
   "execution_count": 117,
   "metadata": {},
   "outputs": [
    {
     "data": {
      "text/html": [
       "<div>\n",
       "<style scoped>\n",
       "    .dataframe tbody tr th:only-of-type {\n",
       "        vertical-align: middle;\n",
       "    }\n",
       "\n",
       "    .dataframe tbody tr th {\n",
       "        vertical-align: top;\n",
       "    }\n",
       "\n",
       "    .dataframe thead th {\n",
       "        text-align: right;\n",
       "    }\n",
       "</style>\n",
       "<table border=\"1\" class=\"dataframe\">\n",
       "  <thead>\n",
       "    <tr style=\"text-align: right;\">\n",
       "      <th></th>\n",
       "      <th>ESTADO_CARRERA</th>\n",
       "      <th>TITULO</th>\n",
       "      <th>ESTATUS</th>\n",
       "    </tr>\n",
       "  </thead>\n",
       "  <tbody>\n",
       "    <tr>\n",
       "      <th>0</th>\n",
       "      <td>Inactiva</td>\n",
       "      <td>Licenciado en Ciencias y Artes Militares Opció...</td>\n",
       "      <td>Inactiva</td>\n",
       "    </tr>\n",
       "    <tr>\n",
       "      <th>1</th>\n",
       "      <td>Activa</td>\n",
       "      <td>Técnico Superior en Informática</td>\n",
       "      <td>Activa</td>\n",
       "    </tr>\n",
       "    <tr>\n",
       "      <th>2</th>\n",
       "      <td>Activa</td>\n",
       "      <td>Técnico Superior en Preescolar</td>\n",
       "      <td>Activa</td>\n",
       "    </tr>\n",
       "    <tr>\n",
       "      <th>3</th>\n",
       "      <td>Activa</td>\n",
       "      <td>Técnico Superior en Administración de Personal...</td>\n",
       "      <td>Activa</td>\n",
       "    </tr>\n",
       "    <tr>\n",
       "      <th>...</th>\n",
       "      <td>...</td>\n",
       "      <td>...</td>\n",
       "      <td>...</td>\n",
       "    </tr>\n",
       "    <tr>\n",
       "      <th>16</th>\n",
       "      <td>Activa</td>\n",
       "      <td>Técnico Superior Universitario en Administraci...</td>\n",
       "      <td>Activa</td>\n",
       "    </tr>\n",
       "    <tr>\n",
       "      <th>17</th>\n",
       "      <td>Inactiva</td>\n",
       "      <td>Técnico Superior en Turismo</td>\n",
       "      <td>Activa</td>\n",
       "    </tr>\n",
       "    <tr>\n",
       "      <th>18</th>\n",
       "      <td>Activa</td>\n",
       "      <td>Técnico Superior en Informática</td>\n",
       "      <td>Activa</td>\n",
       "    </tr>\n",
       "    <tr>\n",
       "      <th>19</th>\n",
       "      <td>Activa</td>\n",
       "      <td>Técnico Superior en Preescolar</td>\n",
       "      <td>Activa</td>\n",
       "    </tr>\n",
       "  </tbody>\n",
       "</table>\n",
       "<p>20 rows × 3 columns</p>\n",
       "</div>"
      ],
      "text/plain": [
       "   ESTADO_CARRERA  \\\n",
       "0        Inactiva   \n",
       "1          Activa   \n",
       "2          Activa   \n",
       "3          Activa   \n",
       "..            ...   \n",
       "16         Activa   \n",
       "17       Inactiva   \n",
       "18         Activa   \n",
       "19         Activa   \n",
       "\n",
       "                                               TITULO  \\\n",
       "0   Licenciado en Ciencias y Artes Militares Opció...   \n",
       "1                     Técnico Superior en Informática   \n",
       "2                      Técnico Superior en Preescolar   \n",
       "3   Técnico Superior en Administración de Personal...   \n",
       "..                                                ...   \n",
       "16  Técnico Superior Universitario en Administraci...   \n",
       "17                        Técnico Superior en Turismo   \n",
       "18                    Técnico Superior en Informática   \n",
       "19                     Técnico Superior en Preescolar   \n",
       "\n",
       "     ESTATUS  \n",
       "0   Inactiva  \n",
       "1     Activa  \n",
       "2     Activa  \n",
       "3     Activa  \n",
       "..       ...  \n",
       "16    Activa  \n",
       "17    Activa  \n",
       "18    Activa  \n",
       "19    Activa  \n",
       "\n",
       "[20 rows x 3 columns]"
      ]
     },
     "execution_count": 117,
     "metadata": {},
     "output_type": "execute_result"
    }
   ],
   "source": [
    "data[['ESTADO_CARRERA','TITULO','ESTATUS']].head(20)"
   ]
  },
  {
   "cell_type": "code",
   "execution_count": 120,
   "metadata": {},
   "outputs": [],
   "source": [
    "data1 = data.dropna()"
   ]
  },
  {
   "cell_type": "code",
   "execution_count": 122,
   "metadata": {},
   "outputs": [
    {
     "data": {
      "text/plain": [
       "IEU               0\n",
       "LOCALIDAD         0\n",
       "SIGLAS            0\n",
       "ESTATUS           0\n",
       "CARRERA           0\n",
       "ESTADO_CARRERA    0\n",
       "TITULO            0\n",
       "dtype: int64"
      ]
     },
     "execution_count": 122,
     "metadata": {},
     "output_type": "execute_result"
    }
   ],
   "source": [
    "data1.isnull().sum()"
   ]
  },
  {
   "cell_type": "code",
   "execution_count": 123,
   "metadata": {},
   "outputs": [
    {
     "name": "stdout",
     "output_type": "stream",
     "text": [
      "<class 'pandas.core.frame.DataFrame'>\n",
      "Index: 4864 entries, 0 to 5858\n",
      "Data columns (total 7 columns):\n",
      " #   Column          Non-Null Count  Dtype \n",
      "---  ------          --------------  ----- \n",
      " 0   IEU             4864 non-null   object\n",
      " 1   LOCALIDAD       4864 non-null   object\n",
      " 2   SIGLAS          4864 non-null   object\n",
      " 3   ESTATUS         4864 non-null   object\n",
      " 4   CARRERA         4864 non-null   object\n",
      " 5   ESTADO_CARRERA  4864 non-null   object\n",
      " 6   TITULO          4864 non-null   object\n",
      "dtypes: object(7)\n",
      "memory usage: 304.0+ KB\n"
     ]
    }
   ],
   "source": [
    "data1.info()"
   ]
  },
  {
   "cell_type": "code",
   "execution_count": 124,
   "metadata": {},
   "outputs": [
    {
     "data": {
      "text/plain": [
       "CARRERA\n",
       "Actividad Física y Salud      1\n",
       "Actuación                     1\n",
       "Acuacultura                   1\n",
       "Administración               50\n",
       "                             ..\n",
       "Técnico Superior Forestal     2\n",
       "Urbanismo                     2\n",
       "Ventas                        1\n",
       "Zootecnia                     1\n",
       "Name: CARRERA, Length: 706, dtype: int64"
      ]
     },
     "execution_count": 124,
     "metadata": {},
     "output_type": "execute_result"
    }
   ],
   "source": [
    "data1.groupby('CARRERA')['CARRERA'].agg('count')"
   ]
  },
  {
   "cell_type": "code",
   "execution_count": 127,
   "metadata": {},
   "outputs": [
    {
     "data": {
      "text/plain": [
       "TITULO\n",
       "Abogado                 53\n",
       "Analista de Sistemas     4\n",
       "Antropólogo              1\n",
       "Arquitecto              28\n",
       "Contador Público         6\n",
       "Name: TITULO, dtype: int64"
      ]
     },
     "execution_count": 127,
     "metadata": {},
     "output_type": "execute_result"
    }
   ],
   "source": [
    "data1.groupby('TITULO')['TITULO'].agg('count')"
   ]
  }
 ],
 "metadata": {
  "kernelspec": {
   "display_name": "Python 3",
   "language": "python",
   "name": "python3"
  },
  "language_info": {
   "codemirror_mode": {
    "name": "ipython",
    "version": 3
   },
   "file_extension": ".py",
   "mimetype": "text/x-python",
   "name": "python",
   "nbconvert_exporter": "python",
   "pygments_lexer": "ipython3",
   "version": "3.11.4"
  }
 },
 "nbformat": 4,
 "nbformat_minor": 2
}
